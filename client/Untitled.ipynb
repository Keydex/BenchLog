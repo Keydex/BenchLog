{
 "cells": [
  {
   "cell_type": "code",
   "execution_count": 4,
   "metadata": {},
   "outputs": [
    {
     "name": "stdout",
     "output_type": "stream",
     "text": [
      "0:00:00.000041\n"
     ]
    }
   ],
   "source": [
    "import requests\n",
    "start=datetime.now()\n",
    "print(datetime.now()-start)"
   ]
  },
  {
   "cell_type": "code",
   "execution_count": null,
   "metadata": {},
   "outputs": [],
   "source": []
  },
  {
   "cell_type": "code",
   "execution_count": 16,
   "metadata": {},
   "outputs": [],
   "source": [
    "#This is the packet that we snapshot\n",
    "class InfoPacket:\n",
    "    def __init__(self, time, progress):\n",
    "        self.time = time\n",
    "        self.progress = progress"
   ]
  },
  {
   "cell_type": "code",
   "execution_count": 46,
   "metadata": {},
   "outputs": [],
   "source": [
    "#This will be the packet sent to the server\n",
    "from datetime import datetime\n",
    "import psutil\n",
    "class InfoPacket(object):\n",
    "    time = -1\n",
    "    progress = -1\n",
    "    memoryUsage = -1\n",
    "    \n",
    "class DataPacket:\n",
    "    def __init__(self, projectName, size, features):\n",
    "        print('DataPacket Initialized')\n",
    "        self.projectName = projectName\n",
    "        self.startTime = datetime.now()\n",
    "        self.endTime = -1\n",
    "        self.runTime = -1\n",
    "        self.size = size\n",
    "        self.features = features\n",
    "        self.infoArray = []\n",
    "    def end(self):\n",
    "        self.endTime = datetime.now()\n",
    "        self.runTime = self.endTime - self.startTime\n",
    "        print('EndTime Logged')\n",
    "        print(self.runTime)\n",
    "        return\n",
    "    def log(self, iteration):\n",
    "        obj = InfoPacket()\n",
    "        obj.time = datetime.now()\n",
    "        obj.progress = iteration/self.size\n",
    "        obj.memoryUsage = psutil.virtual_memory().used\n",
    "        self.infoArray.append(obj)\n",
    "        return"
   ]
  },
  {
   "cell_type": "code",
   "execution_count": 15,
   "metadata": {},
   "outputs": [],
   "source": [
    "test = dataPacket"
   ]
  },
  {
   "cell_type": "code",
   "execution_count": 29,
   "metadata": {},
   "outputs": [
    {
     "name": "stdout",
     "output_type": "stream",
     "text": [
      "['testa', 'testb']\n"
     ]
    }
   ],
   "source": [
    "test = dataPacket('test', ['testa','testb'])\n",
    "print(test.features)"
   ]
  },
  {
   "cell_type": "code",
   "execution_count": 5,
   "metadata": {},
   "outputs": [
    {
     "name": "stdout",
     "output_type": "stream",
     "text": [
      "DataPacket Initialized\n",
      "EndTime Logged\n",
      "0:00:00.000086\n"
     ]
    }
   ],
   "source": [
    "test = DataPacket('project1', 10000, ['feature1','feature2'])\n",
    "test.end()\n",
    "print(test.runTime)"
   ]
  },
  {
   "cell_type": "code",
   "execution_count": 50,
   "metadata": {},
   "outputs": [
    {
     "name": "stdout",
     "output_type": "stream",
     "text": [
      "DataPacket Initialized\n",
      "EndTime Logged\n",
      "0:00:01.343451\n",
      "9024\n",
      "87624\n"
     ]
    }
   ],
   "source": [
    "test = DataPacket('test', 10000, ['testa','testb'])\n",
    "import sys\n",
    "import time\n",
    "array = []\n",
    "for i in range(1,10000):\n",
    "    array.append('<__main__<__main__.InfoPacket object at 0x108058b00>, <__main__.InfoPacket object at 0x10807e048>, <__main__.InfoPacket object at 0x10807e080>, <__main__.InfoPacket object at 0x10807e128>, <__main__.InfoPacket object at 0x10807e0b8>, <__main__.InfoPacket object at 0x10807e0f0>, <__main__.InfoPacket object at 0x10807e208>, <__main__.InfoPacket object at 0x10807e390>, <__main__.InfoPacket object at 0x10807e320>, <__main__.InfoPacket object at 0x10807e400>, <__main__.InfoPacket object at 0x10807e3c8>, <__main__.InfoPacket object at 0x10807e2b0>, <__main__.InfoPacket object at 0x10807e438>, <__main__.InfoPacket object at 0x10807e470>, <__main__.InfoPacket object at 0x10807e2e8>, <__main__.InfoPacket object at 0x10807e278>, <__main__.InfoPacket object at 0x10807e518>, <__main__.InfoPacket object at 0x10807e358>, <__main__.InfoPacket object at 0x10807e160>, <__main__.InfoPacket object at 0x10807e630>, <__main__.InfoPacket object at 0x10807e198>, <__main__.InfoPacket object at 0x10807e1d0>, <__main__.InfoPacket object at 0x10807e6a0>, <__main__.InfoPacket object at 0x10807e5c0>, <__main__.InfoPacket object at 0x10807e550>, <__main__.InfoPacket object at 0x10807e6d8>, <__main__.InfoPacket object at 0x10807e780>, <__main__.InfoPacket object at 0x10807e7b8>, <__main__.InfoPacket object at 0x10807e898>, <__main__.InfoPacket object at 0x10807e4a8>, <__main__.InfoPacket object at 0x10807e4e0>, <__main__.InfoPacket object at 0x10807e748>, <__main__.InfoPacket object at 0x10807e710>, <__main__.InfoPacket object at 0x10807e908>, <__main__.InfoPacket object at 0x10807e940>, <__main__.InfoPacket object at 0x10807e978>, <__main__.InfoPacket object at 0x10807e8d0>, <__main__.InfoPacket object at 0x10807ea20>, <__main__.InfoPacket object at 0x10807e668>, <__main__.InfoPacket object at 0x10807e5f8>, <__main__.InfoPacket object at 0x10807ea58>, <__main__.InfoPacket object at 0x10807eac8>, <__main__.InfoPacket object at 0x10807ebe0>, <__main__.InfoPacket object at 0x10807ec18>, <__main__.InfoPacket object at 0x10807eb70>, <__main__.InfoPacket object at 0x10807eba8>, <__main__.InfoPacket object at 0x10807ec50>, <__main__.InfoPacket object at 0x10807ec88>, <__main__.InfoPacket object at 0x10807ed68>, <__main__.InfoPacket object at 0x10807eb00>, <__main__.InfoPacket object at 0x10807eb38>, <__main__.InfoPacket object at 0x10807ecc0>, <__main__.InfoPacket object at 0x10807eda0>, <__main__.InfoPacket object at 0x10807e828>, <__main__.InfoPacket object at 0x10807e860>, <__main__.InfoPacket object at 0x10807e7f0>, <__main__.InfoPacket object at 0x10807ecf8>, <__main__.InfoPacket object at 0x10807ed30>, <__main__.InfoPacket object at 0x10807ee80>, <__main__.InfoPacket object at 0x10807edd8>, <__main__.InfoPacket object at 0x10807eeb8>, <__main__.InfoPacket object at 0x10807eef0>, <__main__.InfoPacket object at 0x10807ef28>, <__main__.InfoPacket object at 0x10807ea90>, <__main__.InfoPacket object at 0x10807e9b0>, <__main__.InfoPacket object at 0x10807e9e8>, <__main__.InfoPacket object at 0x10807fc50>, <__main__.InfoPacket object at 0x10807f9b0>, <__main__.InfoPacket object at 0x10807f0b8>, <__main__.InfoPacket object at 0x10807f2b0>, <__main__.InfoPacket object at 0x10807f278>, <__main__.InfoPacket object at 0x10807f3c8>, <__main__.InfoPacket object at 0x10807f2e8>, <__main__.InfoPacket object at 0x10807f208>, <__main__.InfoPacket object at 0x10807f1d0>, <__main__.InfoPacket object at 0x10807f240>, <__main__.InfoPacket object at 0x10807f160>, <__main__.InfoPacket object at 0x10807f128>, <__main__.InfoPacket object at 0x10807f048>, <__main__.InfoPacket object at 0x10807f198>, <__main__.InfoPacket object at 0x10807f320>, <__main__.InfoPacket object at 0x10807f4a8>, <__main__.InfoPacket object at 0x10807f550>, <__main__.InfoPacket object at 0x10807f668>, <__main__.InfoPacket object at 0x10807f518>, <__main__.InfoPacket object at 0x10807f470>, <__main__.InfoPacket object at 0x10807f0f0>, <__main__.InfoPacket object at 0x10807f4e0>, <__main__.InfoPacket object at 0x10807f5c0>, <__main__.InfoPacket object at 0x10807f710>, <__main__.InfoPacket object at 0x10807f6d8>, <__main__.InfoPacket object at 0x10807f748>, <__main__.InfoPacket object at 0x10807f6a0>, <__main__.InfoPacket object at 0x10807f5f8>, <__main__.InfoPacket object at 0x10807f7b8>, <__main__.InfoPacket object at 0x10807f860>, <__main__.InfoPacket object at 0x10807f400>, <__main__.InfoPacket object at 0x10807f438>, <__main__.InfoPacket object at 0x10<__main__.InfoPacket object at 0x108058b00>, <__main__.InfoPacket object at 0x10807e048>, <__main__.InfoPacket object at 0x10807e080>, <__main__.InfoPacket object at 0x10807e128>, <__main__.InfoPacket object at 0x10807e0b8>, <__main__.InfoPacket object at 0x10807e0f0>, <__main__.InfoPacket object at 0x10807e208>, <__main__.InfoPacket object at 0x10807e390>, <__main__.InfoPacket object at 0x10807e320>, <__main__.InfoPacket object at 0x10807e400>, <__main__.InfoPacket object at 0x10807e3c8>, <__main__.InfoPacket object at 0x10807e2b0>, <__main__.InfoPacket object at 0x10807e438>, <__main__.InfoPacket object at 0x10807e470>, <__main__.InfoPacket object at 0x10807e2e8>, <__main__.InfoPacket object at 0x10807e278>, <__main__.InfoPacket object at 0x10807e518>, <__main__.InfoPacket object at 0x10807e358>, <__main__.InfoPacket object at 0x10807e160>, <__main__.InfoPacket object at 0x10807e630>, <__main__.InfoPacket object at 0x10807e198>, <__main__.InfoPacket object at 0x10807e1d0>, <__main__.InfoPacket object at 0x10807e6a0>, <__main__.InfoPacket object at 0x10807e5c0>, <__main__.InfoPacket object at 0x10807e550>, <__main__.InfoPacket object at 0x10807e6d8>, <__main__.InfoPacket object at 0x10807e780>, <__main__.InfoPacket object at 0x10807e7b8>, <__main__.InfoPacket object at 0x10807e898>, <__main__.InfoPacket object at 0x10807e4a8>, <__main__.InfoPacket object at 0x10807e4e0>, <__main__.InfoPacket object at 0x10807e748>, <__main__.InfoPacket object at 0x10807e710>, <__main__.InfoPacket object at 0x10807e908>, <__main__.InfoPacket object at 0x10807e940>, <__main__.InfoPacket object at 0x10807e978>, <__main__.InfoPacket object at 0x10807e8d0>, <__main__.InfoPacket object at 0x10807ea20>, <__main__.InfoPacket object at 0x10807e668>, <__main__.InfoPacket object at 0x10807e5f8>, <__main__.InfoPacket object at 0x10807ea58>, <__main__.InfoPacket object at 0x10807eac8>, <__main__.InfoPacket object at 0x10807ebe0>, <__main__.InfoPacket object at 0x10807ec18>, <__main__.InfoPacket object at 0x10807eb70>, <__main__.InfoPacket object at 0x10807eba8>, <__main__.InfoPacket object at 0x10807ec50>, <__main__.InfoPacket object at 0x10807ec88>, <__main__.InfoPacket object at 0x10807ed68>, <__main__.InfoPacket object at 0x10807eb00>, <__main__.InfoPacket object at 0x10807eb38>, <__main__.InfoPacket object at 0x10807ecc0>, <__main__.InfoPacket object at 0x10807eda0>, <__main__.InfoPacket object at 0x10807e828>, <__main__.InfoPacket object at 0x10807e860>, <__main__.InfoPacket object at 0x10807e7f0>, <__main__.InfoPacket object at 0x10807ecf8>, <__main__.InfoPacket object at 0x10807ed30>, <__main__.InfoPacket object at 0x10807ee80>, <__main__.InfoPacket object at 0x10807edd8>, <__main__.InfoPacket object at 0x10807eeb8>, <__main__.InfoPacket object at 0x10807eef0>, <__main__.InfoPacket object at 0x10807ef28>, <__main__.InfoPacket object at 0x10807ea90>, <__main__.InfoPacket object at 0x10807e9b0>, <__main__.InfoPacket object at 0x10807e9e8>, <__main__.InfoPacket object at 0x10807fc50>, <__main__.InfoPacket object at 0x10807f9b0>, <__main__.InfoPacket object at 0x10807f0b8>, <__main__.InfoPacket object at 0x10807f2b0>, <__main__.InfoPacket object at 0x10807f278>, <__main__.InfoPacket object at 0x10807f3c8>, <__main__.InfoPacket object at 0x10807f2e8>, <__main__.InfoPacket object at 0x10807f208>, <__main__.InfoPacket object at 0x10807f1d0>, <__main__.InfoPacket object at 0x10807f240>, <__main__.InfoPacket object at 0x10807f160>, <__main__.InfoPacket object at 0x10807f128>, <__main__.InfoPacket object at 0x10807f048>, <__main__.InfoPacket object at 0x10807f198>, <__main__.InfoPacket object at 0x10807f320>, <__main__.InfoPacket object at 0x10807f4a8>, <__main__.InfoPacket object at 0x10807f550>, <__main__.InfoPacket object at 0x10807f668>, <__main__.InfoPacket object at 0x10807f518>, <__main__.InfoPacket object at 0x10807f470>, <__main__.InfoPacket object at 0x10807f0f0>, <__main__.InfoPacket object at 0x10807f4e0>, <__main__.InfoPacket object at 0x10807f5c0>, <__main__.InfoPacket object at 0x10807f710>, <__main__.InfoPacket object at 0x10807f6d8>, <__main__.InfoPacket object at 0x10807f748>, <__main__.InfoPacket object at 0x10807f6a0>, <__main__.InfoPacket object at 0x10807f5f8>, <__main__.InfoPacket object at 0x10807f7b8>, <__main__.InfoPacket object at 0x10807f860>, <__main__.InfoPacket object at 0x10807f400>, <__main__.InfoPacket object at 0x10807f438>, <__main__.InfoPacket object at 0x10<__main__.InfoPacket object at 0x108058b00>, <__main__.InfoPacket object at 0x10807e048>, <__main__.InfoPacket object at 0x10807e080>, <__main__.InfoPacket object at 0x10807e128>, <__main__.InfoPacket object at 0x10807e0b8>, <__main__.InfoPacket object at 0x10807e0f0>, <__main__.InfoPacket object at 0x10807e208>, <__main__.InfoPacket object at 0x10807e390>, <__main__.InfoPacket object at 0x10807e320>, <__main__.InfoPacket object at 0x10807e400>, <__main__.InfoPacket object at 0x10807e3c8>, <__main__.InfoPacket object at 0x10807e2b0>, <__main__.InfoPacket object at 0x10807e438>, <__main__.InfoPacket object at 0x10807e470>, <__main__.InfoPacket object at 0x10807e2e8>, <__main__.InfoPacket object at 0x10807e278>, <__main__.InfoPacket object at 0x10807e518>, <__main__.InfoPacket object at 0x10807e358>, <__main__.InfoPacket object at 0x10807e160>, <__main__.InfoPacket object at 0x10807e630>, <__main__.InfoPacket object at 0x10807e198>, <__main__.InfoPacket object at 0x10807e1d0>, <__main__.InfoPacket object at 0x10807e6a0>, <__main__.InfoPacket object at 0x10807e5c0>, <__main__.InfoPacket object at 0x10807e550>, <__main__.InfoPacket object at 0x10807e6d8>, <__main__.InfoPacket object at 0x10807e780>, <__main__.InfoPacket object at 0x10807e7b8>, <__main__.InfoPacket object at 0x10807e898>, <__main__.InfoPacket object at 0x10807e4a8>, <__main__.InfoPacket object at 0x10807e4e0>, <__main__.InfoPacket object at 0x10807e748>, <__main__.InfoPacket object at 0x10807e710>, <__main__.InfoPacket object at 0x10807e908>, <__main__.InfoPacket object at 0x10807e940>, <__main__.InfoPacket object at 0x10807e978>, <__main__.InfoPacket object at 0x10807e8d0>, <__main__.InfoPacket object at 0x10807ea20>, <__main__.InfoPacket object at 0x10807e668>, <__main__.InfoPacket object at 0x10807e5f8>, <__main__.InfoPacket object at 0x10807ea58>, <__main__.InfoPacket object at 0x10807eac8>, <__main__.InfoPacket object at 0x10807ebe0>, <__main__.InfoPacket object at 0x10807ec18>, <__main__.InfoPacket object at 0x10807eb70>, <__main__.InfoPacket object at 0x10807eba8>, <__main__.InfoPacket object at 0x10807ec50>, <__main__.InfoPacket object at 0x10807ec88>, <__main__.InfoPacket object at 0x10807ed68>, <__main__.InfoPacket object at 0x10807eb00>, <__main__.InfoPacket object at 0x10807eb38>, <__main__.InfoPacket object at 0x10807ecc0>, <__main__.InfoPacket object at 0x10807eda0>, <__main__.InfoPacket object at 0x10807e828>, <__main__.InfoPacket object at 0x10807e860>, <__main__.InfoPacket object at 0x10807e7f0>, <__main__.InfoPacket object at 0x10807ecf8>, <__main__.InfoPacket object at 0x10807ed30>, <__main__.InfoPacket object at 0x10807ee80>, <__main__.InfoPacket object at 0x10807edd8>, <__main__.InfoPacket object at 0x10807eeb8>, <__main__.InfoPacket object at 0x10807eef0>, <__main__.InfoPacket object at 0x10807ef28>, <__main__.InfoPacket object at 0x10807ea90>, <__main__.InfoPacket object at 0x10807e9b0>, <__main__.InfoPacket object at 0x10807e9e8>, <__main__.InfoPacket object at 0x10807fc50>, <__main__.InfoPacket object at 0x10807f9b0>, <__main__.InfoPacket object at 0x10807f0b8>, <__main__.InfoPacket object at 0x10807f2b0>, <__main__.InfoPacket object at 0x10807f278>, <__main__.InfoPacket object at 0x10807f3c8>, <__main__.InfoPacket object at 0x10807f2e8>, <__main__.InfoPacket object at 0x10807f208>, <__main__.InfoPacket object at 0x10807f1d0>, <__main__.InfoPacket object at 0x10807f240>, <__main__.InfoPacket object at 0x10807f160>, <__main__.InfoPacket object at 0x10807f128>, <__main__.InfoPacket object at 0x10807f048>, <__main__.InfoPacket object at 0x10807f198>, <__main__.InfoPacket object at 0x10807f320>, <__main__.InfoPacket object at 0x10807f4a8>, <__main__.InfoPacket object at 0x10807f550>, <__main__.InfoPacket object at 0x10807f668>, <__main__.InfoPacket object at 0x10807f518>, <__main__.InfoPacket object at 0x10807f470>, <__main__.InfoPacket object at 0x10807f0f0>, <__main__.InfoPacket object at 0x10807f4e0>, <__main__.InfoPacket object at 0x10807f5c0>, <__main__.InfoPacket object at 0x10807f710>, <__main__.InfoPacket object at 0x10807f6d8>, <__main__.InfoPacket object at 0x10807f748>, <__main__.InfoPacket object at 0x10807f6a0>, <__main__.InfoPacket object at 0x10807f5f8>, <__main__.InfoPacket object at 0x10807f7b8>, <__main__.InfoPacket object at 0x10807f860>, <__main__.InfoPacket object at 0x10807f400>, <__main__.InfoPacket object at 0x10807f438>, <__main__.InfoPacket object at 0x10<__main__.InfoPacket object at 0x108058b00>, <__main__.InfoPacket object at 0x10807e048>, <__main__.InfoPacket object at 0x10807e080>, <__main__.InfoPacket object at 0x10807e128>, <__main__.InfoPacket object at 0x10807e0b8>, <__main__.InfoPacket object at 0x10807e0f0>, <__main__.InfoPacket object at 0x10807e208>, <__main__.InfoPacket object at 0x10807e390>, <__main__.InfoPacket object at 0x10807e320>, <__main__.InfoPacket object at 0x10807e400>, <__main__.InfoPacket object at 0x10807e3c8>, <__main__.InfoPacket object at 0x10807e2b0>, <__main__.InfoPacket object at 0x10807e438>, <__main__.InfoPacket object at 0x10807e470>, <__main__.InfoPacket object at 0x10807e2e8>, <__main__.InfoPacket object at 0x10807e278>, <__main__.InfoPacket object at 0x10807e518>, <__main__.InfoPacket object at 0x10807e358>, <__main__.InfoPacket object at 0x10807e160>, <__main__.InfoPacket object at 0x10807e630>, <__main__.InfoPacket object at 0x10807e198>, <__main__.InfoPacket object at 0x10807e1d0>, <__main__.InfoPacket object at 0x10807e6a0>, <__main__.InfoPacket object at 0x10807e5c0>, <__main__.InfoPacket object at 0x10807e550>, <__main__.InfoPacket object at 0x10807e6d8>, <__main__.InfoPacket object at 0x10807e780>, <__main__.InfoPacket object at 0x10807e7b8>, <__main__.InfoPacket object at 0x10807e898>, <__main__.InfoPacket object at 0x10807e4a8>, <__main__.InfoPacket object at 0x10807e4e0>, <__main__.InfoPacket object at 0x10807e748>, <__main__.InfoPacket object at 0x10807e710>, <__main__.InfoPacket object at 0x10807e908>, <__main__.InfoPacket object at 0x10807e940>, <__main__.InfoPacket object at 0x10807e978>, <__main__.InfoPacket object at 0x10807e8d0>, <__main__.InfoPacket object at 0x10807ea20>, <__main__.InfoPacket object at 0x10807e668>, <__main__.InfoPacket object at 0x10807e5f8>, <__main__.InfoPacket object at 0x10807ea58>, <__main__.InfoPacket object at 0x10807eac8>, <__main__.InfoPacket object at 0x10807ebe0>, <__main__.InfoPacket object at 0x10807ec18>, <__main__.InfoPacket object at 0x10807eb70>, <__main__.InfoPacket object at 0x10807eba8>, <__main__.InfoPacket object at 0x10807ec50>, <__main__.InfoPacket object at 0x10807ec88>, <__main__.InfoPacket object at 0x10807ed68>, <__main__.InfoPacket object at 0x10807eb00>, <__main__.InfoPacket object at 0x10807eb38>, <__main__.InfoPacket object at 0x10807ecc0>, <__main__.InfoPacket object at 0x10807eda0>, <__main__.InfoPacket object at 0x10807e828>, <__main__.InfoPacket object at 0x10807e860>, <__main__.InfoPacket object at 0x10807e7f0>, <__main__.InfoPacket object at 0x10807ecf8>, <__main__.InfoPacket object at 0x10807ed30>, <__main__.InfoPacket object at 0x10807ee80>, <__main__.InfoPacket object at 0x10807edd8>, <__main__.InfoPacket object at 0x10807eeb8>, <__main__.InfoPacket object at 0x10807eef0>, <__main__.InfoPacket object at 0x10807ef28>, <__main__.InfoPacket object at 0x10807ea90>, <__main__.InfoPacket object at 0x10807e9b0>, <__main__.InfoPacket object at 0x10807e9e8>, <__main__.InfoPacket object at 0x10807fc50>, <__main__.InfoPacket object at 0x10807f9b0>, <__main__.InfoPacket object at 0x10807f0b8>, <__main__.InfoPacket object at 0x10807f2b0>, <__main__.InfoPacket object at 0x10807f278>, <__main__.InfoPacket object at 0x10807f3c8>, <__main__.InfoPacket object at 0x10807f2e8>, <__main__.InfoPacket object at 0x10807f208>, <__main__.InfoPacket object at 0x10807f1d0>, <__main__.InfoPacket object at 0x10807f240>, <__main__.InfoPacket object at 0x10807f160>, <__main__.InfoPacket object at 0x10807f128>, <__main__.InfoPacket object at 0x10807f048>, <__main__.InfoPacket object at 0x10807f198>, <__main__.InfoPacket object at 0x10807f320>, <__main__.InfoPacket object at 0x10807f4a8>, <__main__.InfoPacket object at 0x10807f550>, <__main__.InfoPacket object at 0x10807f668>, <__main__.InfoPacket object at 0x10807f518>, <__main__.InfoPacket object at 0x10807f470>, <__main__.InfoPacket object at 0x10807f0f0>, <__main__.InfoPacket object at 0x10807f4e0>, <__main__.InfoPacket object at 0x10807f5c0>, <__main__.InfoPacket object at 0x10807f710>, <__main__.InfoPacket object at 0x10807f6d8>, <__main__.InfoPacket object at 0x10807f748>, <__main__.InfoPacket object at 0x10807f6a0>, <__main__.InfoPacket object at 0x10807f5f8>, <__main__.InfoPacket object at 0x10807f7b8>, <__main__.InfoPacket object at 0x10807f860>, <__main__.InfoPacket object at 0x10807f400>, <__main__.InfoPacket object at 0x10807f438>, <__main__.InfoPacket object at 0x10.InfoPacket object at 0x108058b00>, <__main__.InfoPacket object at 0x10807e048>, <__main__.InfoPacket object at 0x10807e080>, <__main__.InfoPacket object at 0x10807e128>, <__main__.InfoPacket object at 0x10807e0b8>, <__main__.InfoPacket object at 0x10807e0f0>, <__main__.InfoPacket object at 0x10807e208>, <__main__.InfoPacket object at 0x10807e390>, <__main__.InfoPacket object at 0x10807e320>, <__main__.InfoPacket object at 0x10807e400>, <__main__.InfoPacket object at 0x10807e3c8>, <__main__.InfoPacket object at 0x10807e2b0>, <__main__.InfoPacket object at 0x10807e438>, <__main__.InfoPacket object at 0x10807e470>, <__main__.InfoPacket object at 0x10807e2e8>, <__main__.InfoPacket object at 0x10807e278>, <__main__.InfoPacket object at 0x10807e518>, <__main__.InfoPacket object at 0x10807e358>, <__main__.InfoPacket object at 0x10807e160>, <__main__.InfoPacket object at 0x10807e630>, <__main__.InfoPacket object at 0x10807e198>, <__main__.InfoPacket object at 0x10807e1d0>, <__main__.InfoPacket object at 0x10807e6a0>, <__main__.InfoPacket object at 0x10807e5c0>, <__main__.InfoPacket object at 0x10807e550>, <__main__.InfoPacket object at 0x10807e6d8>, <__main__.InfoPacket object at 0x10807e780>, <__main__.InfoPacket object at 0x10807e7b8>, <__main__.InfoPacket object at 0x10807e898>, <__main__.InfoPacket object at 0x10807e4a8>, <__main__.InfoPacket object at 0x10807e4e0>, <__main__.InfoPacket object at 0x10807e748>, <__main__.InfoPacket object at 0x10807e710>, <__main__.InfoPacket object at 0x10807e908>, <__main__.InfoPacket object at 0x10807e940>, <__main__.InfoPacket object at 0x10807e978>, <__main__.InfoPacket object at 0x10807e8d0>, <__main__.InfoPacket object at 0x10807ea20>, <__main__.InfoPacket object at 0x10807e668>, <__main__.InfoPacket object at 0x10807e5f8>, <__main__.InfoPacket object at 0x10807ea58>, <__main__.InfoPacket object at 0x10807eac8>, <__main__.InfoPacket object at 0x10807ebe0>, <__main__.InfoPacket object at 0x10807ec18>, <__main__.InfoPacket object at 0x10807eb70>, <__main__.InfoPacket object at 0x10807eba8>, <__main__.InfoPacket object at 0x10807ec50>, <__main__.InfoPacket object at 0x10807ec88>, <__main__.InfoPacket object at 0x10807ed68>, <__main__.InfoPacket object at 0x10807eb00>, <__main__.InfoPacket object at 0x10807eb38>, <__main__.InfoPacket object at 0x10807ecc0>, <__main__.InfoPacket object at 0x10807eda0>, <__main__.InfoPacket object at 0x10807e828>, <__main__.InfoPacket object ')\n",
    "    if(i % 10 == 0):\n",
    "        time.sleep(0.001)\n",
    "        test.log(i)\n",
    "test.end()\n",
    "print(sys.getsizeof(test.infoArray))\n",
    "print(sys.getsizeof(array))"
   ]
  },
  {
   "cell_type": "code",
   "execution_count": 30,
   "metadata": {},
   "outputs": [
    {
     "name": "stdout",
     "output_type": "stream",
     "text": [
      "[<__main__.InfoPacket object at 0x108058b00>, <__main__.InfoPacket object at 0x10807e048>, <__main__.InfoPacket object at 0x10807e080>, <__main__.InfoPacket object at 0x10807e128>, <__main__.InfoPacket object at 0x10807e0b8>, <__main__.InfoPacket object at 0x10807e0f0>, <__main__.InfoPacket object at 0x10807e208>, <__main__.InfoPacket object at 0x10807e390>, <__main__.InfoPacket object at 0x10807e320>, <__main__.InfoPacket object at 0x10807e400>, <__main__.InfoPacket object at 0x10807e3c8>, <__main__.InfoPacket object at 0x10807e2b0>, <__main__.InfoPacket object at 0x10807e438>, <__main__.InfoPacket object at 0x10807e470>, <__main__.InfoPacket object at 0x10807e2e8>, <__main__.InfoPacket object at 0x10807e278>, <__main__.InfoPacket object at 0x10807e518>, <__main__.InfoPacket object at 0x10807e358>, <__main__.InfoPacket object at 0x10807e160>, <__main__.InfoPacket object at 0x10807e630>, <__main__.InfoPacket object at 0x10807e198>, <__main__.InfoPacket object at 0x10807e1d0>, <__main__.InfoPacket object at 0x10807e6a0>, <__main__.InfoPacket object at 0x10807e5c0>, <__main__.InfoPacket object at 0x10807e550>, <__main__.InfoPacket object at 0x10807e6d8>, <__main__.InfoPacket object at 0x10807e780>, <__main__.InfoPacket object at 0x10807e7b8>, <__main__.InfoPacket object at 0x10807e898>, <__main__.InfoPacket object at 0x10807e4a8>, <__main__.InfoPacket object at 0x10807e4e0>, <__main__.InfoPacket object at 0x10807e748>, <__main__.InfoPacket object at 0x10807e710>, <__main__.InfoPacket object at 0x10807e908>, <__main__.InfoPacket object at 0x10807e940>, <__main__.InfoPacket object at 0x10807e978>, <__main__.InfoPacket object at 0x10807e8d0>, <__main__.InfoPacket object at 0x10807ea20>, <__main__.InfoPacket object at 0x10807e668>, <__main__.InfoPacket object at 0x10807e5f8>, <__main__.InfoPacket object at 0x10807ea58>, <__main__.InfoPacket object at 0x10807eac8>, <__main__.InfoPacket object at 0x10807ebe0>, <__main__.InfoPacket object at 0x10807ec18>, <__main__.InfoPacket object at 0x10807eb70>, <__main__.InfoPacket object at 0x10807eba8>, <__main__.InfoPacket object at 0x10807ec50>, <__main__.InfoPacket object at 0x10807ec88>, <__main__.InfoPacket object at 0x10807ed68>, <__main__.InfoPacket object at 0x10807eb00>, <__main__.InfoPacket object at 0x10807eb38>, <__main__.InfoPacket object at 0x10807ecc0>, <__main__.InfoPacket object at 0x10807eda0>, <__main__.InfoPacket object at 0x10807e828>, <__main__.InfoPacket object at 0x10807e860>, <__main__.InfoPacket object at 0x10807e7f0>, <__main__.InfoPacket object at 0x10807ecf8>, <__main__.InfoPacket object at 0x10807ed30>, <__main__.InfoPacket object at 0x10807ee80>, <__main__.InfoPacket object at 0x10807edd8>, <__main__.InfoPacket object at 0x10807eeb8>, <__main__.InfoPacket object at 0x10807eef0>, <__main__.InfoPacket object at 0x10807ef28>, <__main__.InfoPacket object at 0x10807ea90>, <__main__.InfoPacket object at 0x10807e9b0>, <__main__.InfoPacket object at 0x10807e9e8>, <__main__.InfoPacket object at 0x10807fc50>, <__main__.InfoPacket object at 0x10807f9b0>, <__main__.InfoPacket object at 0x10807f0b8>, <__main__.InfoPacket object at 0x10807f2b0>, <__main__.InfoPacket object at 0x10807f278>, <__main__.InfoPacket object at 0x10807f3c8>, <__main__.InfoPacket object at 0x10807f2e8>, <__main__.InfoPacket object at 0x10807f208>, <__main__.InfoPacket object at 0x10807f1d0>, <__main__.InfoPacket object at 0x10807f240>, <__main__.InfoPacket object at 0x10807f160>, <__main__.InfoPacket object at 0x10807f128>, <__main__.InfoPacket object at 0x10807f048>, <__main__.InfoPacket object at 0x10807f198>, <__main__.InfoPacket object at 0x10807f320>, <__main__.InfoPacket object at 0x10807f4a8>, <__main__.InfoPacket object at 0x10807f550>, <__main__.InfoPacket object at 0x10807f668>, <__main__.InfoPacket object at 0x10807f518>, <__main__.InfoPacket object at 0x10807f470>, <__main__.InfoPacket object at 0x10807f0f0>, <__main__.InfoPacket object at 0x10807f4e0>, <__main__.InfoPacket object at 0x10807f5c0>, <__main__.InfoPacket object at 0x10807f710>, <__main__.InfoPacket object at 0x10807f6d8>, <__main__.InfoPacket object at 0x10807f748>, <__main__.InfoPacket object at 0x10807f6a0>, <__main__.InfoPacket object at 0x10807f5f8>, <__main__.InfoPacket object at 0x10807f7b8>, <__main__.InfoPacket object at 0x10807f860>, <__main__.InfoPacket object at 0x10807f400>, <__main__.InfoPacket object at 0x10807f438>, <__main__.InfoPacket object at 0x10807f828>]\n"
     ]
    }
   ],
   "source": [
    "print(test.infoArray)"
   ]
  },
  {
   "cell_type": "code",
   "execution_count": null,
   "metadata": {},
   "outputs": [],
   "source": []
  }
 ],
 "metadata": {
  "kernelspec": {
   "display_name": "Python 3",
   "language": "python",
   "name": "python3"
  },
  "language_info": {
   "codemirror_mode": {
    "name": "ipython",
    "version": 3
   },
   "file_extension": ".py",
   "mimetype": "text/x-python",
   "name": "python",
   "nbconvert_exporter": "python",
   "pygments_lexer": "ipython3",
   "version": "3.7.0"
  }
 },
 "nbformat": 4,
 "nbformat_minor": 2
}
